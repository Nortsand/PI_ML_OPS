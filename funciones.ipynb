{
 "cells": [
  {
   "cell_type": "code",
   "execution_count": 1,
   "metadata": {},
   "outputs": [],
   "source": [
    "import pandas as pd\n",
    "\n",
    "movies = pd.read_csv(\"data/movies.csv\", index_col='id')\n",
    "\n",
    "movies[['genres_id', 'actors_id', 'directors_id']] = movies[[\n",
    "    'genres_id', 'actors_id', 'directors_id']].apply(lambda x: x.apply(eval))\n",
    "\n",
    "genres = pd.read_csv(\"data/genres.csv\", index_col='genre').to_dict(\n",
    "    orient='dict')['id']\n",
    "actors = pd.read_csv(\"data/actors.csv\", index_col='actor').to_dict(\n",
    "    orient='dict')['id']\n",
    "directors = pd.read_csv(\"data/directors.csv\", index_col='director').to_dict(\n",
    "    orient='dict')['id']\n"
   ]
  },
  {
   "cell_type": "code",
   "execution_count": 2,
   "metadata": {},
   "outputs": [
    {
     "name": "stdout",
     "output_type": "stream",
     "text": [
      "<class 'pandas.core.frame.DataFrame'>\n",
      "Int64Index: 45345 entries, 862 to 461257\n",
      "Data columns (total 15 columns):\n",
      " #   Column         Non-Null Count  Dtype  \n",
      "---  ------         --------------  -----  \n",
      " 0   budget         45345 non-null  float64\n",
      " 1   popularity     45345 non-null  float64\n",
      " 2   release_date   45345 non-null  object \n",
      " 3   revenue        45345 non-null  float64\n",
      " 4   runtime        45345 non-null  float64\n",
      " 5   title          45345 non-null  object \n",
      " 6   vote_average   45345 non-null  float64\n",
      " 7   vote_count     45345 non-null  float64\n",
      " 8   genres_id      45345 non-null  object \n",
      " 9   actors_id      45345 non-null  object \n",
      " 10  directors_id   45345 non-null  object \n",
      " 11  release_year   45345 non-null  int64  \n",
      " 12  release_month  45345 non-null  int64  \n",
      " 13  release_day    45345 non-null  object \n",
      " 14  return         45345 non-null  float64\n",
      "dtypes: float64(7), int64(2), object(6)\n",
      "memory usage: 5.5+ MB\n"
     ]
    }
   ],
   "source": [
    "movies.info()"
   ]
  },
  {
   "cell_type": "code",
   "execution_count": 79,
   "metadata": {},
   "outputs": [],
   "source": [
    "#Primera función \n",
    "def cantidad_filmaciones_mes(mes: str):\n",
    "    mes = mes.lower().strip()\n",
    "    numero_mes = mes_to_numero(mes)\n",
    "\n",
    "    cantidad = len(movies[movies['release_month'] == numero_mes])\n",
    "\n",
    "    return {'mes': mes, 'cantidad': cantidad}\n",
    "\n",
    "def mes_to_numero(mes: str) -> int:\n",
    "    meses = {\n",
    "        'enero': 1,\n",
    "        'febrero': 2,\n",
    "        'marzo': 3,\n",
    "        'abril': 4,\n",
    "        'mayo': 5,\n",
    "        'junio': 6,\n",
    "        'julio': 7,\n",
    "        'agosto': 8,\n",
    "        'septiembre': 9,\n",
    "        'octubre': 10,\n",
    "        'noviembre': 11,\n",
    "        'diciembre': 12\n",
    "    }\n",
    "\n",
    "    return meses.get(mes, 0)"
   ]
  },
  {
   "cell_type": "code",
   "execution_count": 80,
   "metadata": {},
   "outputs": [
    {
     "data": {
      "text/plain": [
       "{'mes': 'abril', 'cantidad': 3452}"
      ]
     },
     "execution_count": 80,
     "metadata": {},
     "output_type": "execute_result"
    }
   ],
   "source": [
    "cantidad_filmaciones_mes(\"abril\")"
   ]
  },
  {
   "cell_type": "code",
   "execution_count": 67,
   "metadata": {},
   "outputs": [],
   "source": [
    "#Segunda función \n",
    "def cantidad_filmaciones_dia(dia: str):\n",
    "    dia = dia.lower().strip()\n",
    "    cantidad = len(movies[movies['release_day'].str.lower() == dia])\n",
    "    \n",
    "    return {'dia': dia, 'cantidad': cantidad}"
   ]
  },
  {
   "cell_type": "code",
   "execution_count": 71,
   "metadata": {},
   "outputs": [
    {
     "data": {
      "text/plain": [
       "{'dia': 'lunes', 'cantidad': 3500}"
      ]
     },
     "execution_count": 71,
     "metadata": {},
     "output_type": "execute_result"
    }
   ],
   "source": [
    "cantidad_filmaciones_dia(\"lunes\")"
   ]
  },
  {
   "cell_type": "code",
   "execution_count": 83,
   "metadata": {},
   "outputs": [],
   "source": [
    "#Tercera función \n",
    "def score_titulo(titulo_de_la_filmacion: str):\n",
    "    titulo_de_la_filmacion = titulo_de_la_filmacion.lower().strip()\n",
    "    filmacion = movies[movies['title'].str.lower() == titulo_de_la_filmacion]\n",
    "    \n",
    "    if filmacion.empty:\n",
    "        return \"No se encontró la filmación especificada.\"\n",
    "    else:\n",
    "        titulo = filmacion['title'].values[0]\n",
    "        año_estreno = filmacion['release_year'].values[0]\n",
    "        score = filmacion['popularity'].values[0]\n",
    "        \n",
    "        return {'titulo': titulo, 'anio': año_estreno, 'popularidad': score}\n"
   ]
  },
  {
   "cell_type": "code",
   "execution_count": 84,
   "metadata": {},
   "outputs": [
    {
     "data": {
      "text/plain": [
       "{'titulo': str, 'anio': 1995, 'popularidad': 7.731725}"
      ]
     },
     "execution_count": 84,
     "metadata": {},
     "output_type": "execute_result"
    }
   ],
   "source": [
    "score_titulo(\"A Little Princess\")"
   ]
  },
  {
   "cell_type": "code",
   "execution_count": 74,
   "metadata": {},
   "outputs": [],
   "source": [
    "# Cuarta función \n",
    "def votos_titulo(titulo_de_la_filmacion: str):\n",
    "    titulo_de_la_filmacion = titulo_de_la_filmacion.lower().strip()\n",
    "    filmacion = movies[movies['title'].str.lower() == titulo_de_la_filmacion]\n",
    "    \n",
    "    if filmacion.empty:\n",
    "        return \"No se encontró la filmación especificada.\"\n",
    "    \n",
    "    vote_count = filmacion['vote_count'].values[0]\n",
    "    vote_average = filmacion['vote_average'].values[0]\n",
    "    release_year = filmacion['release_year'].values[0]\n",
    "    \n",
    "    if vote_count < 2000:\n",
    "        return \"La filmación no cumple con el requisito mínimo de 2000 valoraciones.\"\n",
    "    \n",
    "    return {'titulo': titulo_de_la_filmacion, 'anio': release_year, 'voto_total': vote_count, 'voto_promedio': vote_average}"
   ]
  },
  {
   "cell_type": "code",
   "execution_count": 75,
   "metadata": {},
   "outputs": [
    {
     "data": {
      "text/plain": [
       "{'titulo': 'star wars',\n",
       " 'anio': 1977,\n",
       " 'voto_total': 6778.0,\n",
       " 'voto_promedio': 8.1}"
      ]
     },
     "execution_count": 75,
     "metadata": {},
     "output_type": "execute_result"
    }
   ],
   "source": [
    "votos_titulo(\"Star Wars\")"
   ]
  },
  {
   "cell_type": "code",
   "execution_count": 77,
   "metadata": {},
   "outputs": [],
   "source": [
    "#Quinta función\n",
    "def get_actor(nombre_actor: str):\n",
    "    nombre_actor = nombre_actor.lower().strip()\n",
    "    \n",
    "    if nombre_actor in actors:\n",
    "        actor_id = actors[nombre_actor]\n",
    "        participaciones = sum(movies['actors_id'].apply(lambda x: actor_id in x))\n",
    "        retorno_total = movies[movies['actors_id'].apply(lambda x: actor_id in x)]['return'].sum()\n",
    "        promedio_retorno = retorno_total / participaciones if participaciones > 0 else 0\n",
    "        \n",
    "        return {'actor': nombre_actor, 'cantidad_filmaciones': participaciones, 'retorno_total': retorno_total, 'retorno_promedio': promedio_retorno}\n",
    "    else:\n",
    "        return f\"No se encontró el actor {nombre_actor} en el dataset.\""
   ]
  },
  {
   "cell_type": "code",
   "execution_count": 78,
   "metadata": {},
   "outputs": [
    {
     "data": {
      "text/plain": [
       "{'actor': 'tom hanks',\n",
       " 'cantidad_filmaciones': 71,\n",
       " 'retorno_total': 178.8494960552024,\n",
       " 'retorno_promedio': 2.5190069866929914}"
      ]
     },
     "execution_count": 78,
     "metadata": {},
     "output_type": "execute_result"
    }
   ],
   "source": [
    "get_actor(\"tom hanks\")"
   ]
  },
  {
   "cell_type": "code",
   "execution_count": 62,
   "metadata": {},
   "outputs": [],
   "source": [
    "# Sexta función\n",
    "\n",
    "def get_director(nombre_director: str):\n",
    "    nombre_director = nombre_director.lower().strip()\n",
    "    \n",
    "    if nombre_director in directors:\n",
    "        director_id = directors[nombre_director]\n",
    "        peliculas_director = movies[movies['directors_id'].apply(lambda x: director_id in x)]\n",
    "        \n",
    "        if peliculas_director.empty:\n",
    "            return {\"director\": nombre_director, \"películas\": [], \"retorno_total_director\": 0}\n",
    "        \n",
    "        retorno_total = peliculas_director['return'].sum()\n",
    "        \n",
    "        resultado = {\n",
    "            \"director\": nombre_director,\n",
    "            \"retorno_total_director\": retorno_total,\n",
    "            \"películas\": []\n",
    "        }\n",
    "        \n",
    "        for index, pelicula in peliculas_director.iterrows():\n",
    "            titulo = pelicula['title']\n",
    "            fecha_lanzamiento = pelicula['release_date']\n",
    "            retorno = pelicula['return']\n",
    "            costo = pelicula['budget']\n",
    "            ganancia = pelicula['revenue']\n",
    "            \n",
    "            pelicula_info = {\n",
    "                \"Título\": titulo,\n",
    "                \"Fecha_lanzamiento\": fecha_lanzamiento,\n",
    "                \"retorno\": retorno,\n",
    "                \"presupuesto\": costo,\n",
    "                \"recaudación\": ganancia\n",
    "            }\n",
    "            \n",
    "            resultado[\"películas\"].append(pelicula_info)\n",
    "        \n",
    "        return resultado\n",
    "    else:\n",
    "        return {\"director\": nombre_director, \"películas\": [], \"retorno_total_director\": 0}"
   ]
  },
  {
   "cell_type": "code",
   "execution_count": 63,
   "metadata": {},
   "outputs": [
    {
     "data": {
      "text/plain": [
       "{'director': 'oliver stone',\n",
       " 'retorno_total_director': 58.012846160040326,\n",
       " 'películas': [{'Título': 'Nixon',\n",
       "   'Fecha_lanzamiento': '1995-12-22',\n",
       "   'retorno': 0.3109492045454545,\n",
       "   'presupuesto': 44000000.0,\n",
       "   'recaudación': 13681765.0},\n",
       "  {'Título': 'Natural Born Killers',\n",
       "   'Fecha_lanzamiento': '1994-08-25',\n",
       "   'retorno': 1.4789048823529412,\n",
       "   'presupuesto': 34000000.0,\n",
       "   'recaudación': 50282766.0},\n",
       "  {'Título': 'Heaven & Earth',\n",
       "   'Fecha_lanzamiento': '1993-12-24',\n",
       "   'retorno': 0.0,\n",
       "   'presupuesto': 33000000.0,\n",
       "   'recaudación': 0.0},\n",
       "  {'Título': 'Platoon',\n",
       "   'Fecha_lanzamiento': '1986-12-18',\n",
       "   'retorno': 23.0884275,\n",
       "   'presupuesto': 6000000.0,\n",
       "   'recaudación': 138530565.0},\n",
       "  {'Título': 'The Doors',\n",
       "   'Fecha_lanzamiento': '1991-03-01',\n",
       "   'retorno': 0.9057077105263158,\n",
       "   'presupuesto': 38000000.0,\n",
       "   'recaudación': 34416893.0},\n",
       "  {'Título': 'U Turn',\n",
       "   'Fecha_lanzamiento': '1997-10-03',\n",
       "   'retorno': 0.3516893684210526,\n",
       "   'presupuesto': 19000000.0,\n",
       "   'recaudación': 6682098.0},\n",
       "  {'Título': 'Any Given Sunday',\n",
       "   'Fecha_lanzamiento': '1999-12-16',\n",
       "   'retorno': 1.8223787636363635,\n",
       "   'presupuesto': 55000000.0,\n",
       "   'recaudación': 100230832.0},\n",
       "  {'Título': 'JFK',\n",
       "   'Fecha_lanzamiento': '1991-12-20',\n",
       "   'retorno': 5.13513745,\n",
       "   'presupuesto': 40000000.0,\n",
       "   'recaudación': 205405498.0},\n",
       "  {'Título': 'Wall Street',\n",
       "   'Fecha_lanzamiento': '1987-12-10',\n",
       "   'retorno': 2.9232046,\n",
       "   'presupuesto': 15000000.0,\n",
       "   'recaudación': 43848069.0},\n",
       "  {'Título': 'Born on the Fourth of July',\n",
       "   'Fecha_lanzamiento': '1989-12-20',\n",
       "   'retorno': 11.500121285714286,\n",
       "   'presupuesto': 14000000.0,\n",
       "   'recaudación': 161001698.0},\n",
       "  {'Título': 'Talk Radio',\n",
       "   'Fecha_lanzamiento': '1988-12-21',\n",
       "   'retorno': 0.867143,\n",
       "   'presupuesto': 4000000.0,\n",
       "   'recaudación': 3468572.0},\n",
       "  {'Título': 'Salvador',\n",
       "   'Fecha_lanzamiento': '1986-04-23',\n",
       "   'retorno': 0.0,\n",
       "   'presupuesto': 4500000.0,\n",
       "   'recaudación': 0.0},\n",
       "  {'Título': 'The Hand',\n",
       "   'Fecha_lanzamiento': '1981-04-24',\n",
       "   'retorno': 0.0871901538461538,\n",
       "   'presupuesto': 6500000.0,\n",
       "   'recaudación': 566736.0},\n",
       "  {'Título': 'Comandante',\n",
       "   'Fecha_lanzamiento': '2003-02-14',\n",
       "   'retorno': 0.0,\n",
       "   'presupuesto': 0.0,\n",
       "   'recaudación': 0.0},\n",
       "  {'Título': 'Alexander',\n",
       "   'Fecha_lanzamiento': '2004-11-21',\n",
       "   'retorno': 1.0793431741935484,\n",
       "   'presupuesto': 155000000.0,\n",
       "   'recaudación': 167298192.0},\n",
       "  {'Título': 'World Trade Center',\n",
       "   'Fecha_lanzamiento': '2006-08-09',\n",
       "   'retorno': 2.586442761904762,\n",
       "   'presupuesto': 63000000.0,\n",
       "   'recaudación': 162945894.0},\n",
       "  {'Título': 'W.',\n",
       "   'Fecha_lanzamiento': '2008-10-17',\n",
       "   'retorno': 1.175556334661355,\n",
       "   'presupuesto': 25100000.0,\n",
       "   'recaudación': 29506464.0},\n",
       "  {'Título': 'Wall Street: Money Never Sleeps',\n",
       "   'Fecha_lanzamiento': '2010-09-02',\n",
       "   'retorno': 1.9249717285714285,\n",
       "   'presupuesto': 70000000.0,\n",
       "   'recaudación': 134748021.0},\n",
       "  {'Título': 'South of the Border',\n",
       "   'Fecha_lanzamiento': '2009-09-07',\n",
       "   'retorno': 0.0,\n",
       "   'presupuesto': 0.0,\n",
       "   'recaudación': 0.0},\n",
       "  {'Título': 'Savages',\n",
       "   'Fecha_lanzamiento': '2012-07-06',\n",
       "   'retorno': 1.8436922666666664,\n",
       "   'presupuesto': 45000000.0,\n",
       "   'recaudación': 82966152.0},\n",
       "  {'Título': 'Seizure',\n",
       "   'Fecha_lanzamiento': '1974-01-01',\n",
       "   'retorno': 0.0,\n",
       "   'presupuesto': 250000.0,\n",
       "   'recaudación': 0.0},\n",
       "  {'Título': 'Mi Amigo Hugo',\n",
       "   'Fecha_lanzamiento': '2014-03-05',\n",
       "   'retorno': 0.0,\n",
       "   'presupuesto': 0.0,\n",
       "   'recaudación': 0.0},\n",
       "  {'Título': 'The Untold History of the United States',\n",
       "   'Fecha_lanzamiento': '2012-11-12',\n",
       "   'retorno': 0.0,\n",
       "   'presupuesto': 0.0,\n",
       "   'recaudación': 0.0},\n",
       "  {'Título': 'Snowden',\n",
       "   'Fecha_lanzamiento': '2016-09-15',\n",
       "   'retorno': 0.931985975,\n",
       "   'presupuesto': 40000000.0,\n",
       "   'recaudación': 37279439.0},\n",
       "  {'Título': 'The Putin Interviews',\n",
       "   'Fecha_lanzamiento': '2017-06-12',\n",
       "   'retorno': 0.0,\n",
       "   'presupuesto': 0.0,\n",
       "   'recaudación': 0.0}]}"
      ]
     },
     "execution_count": 63,
     "metadata": {},
     "output_type": "execute_result"
    }
   ],
   "source": [
    "get_director(\"Oliver stone\")"
   ]
  }
 ],
 "metadata": {
  "kernelspec": {
   "display_name": "Python 3",
   "language": "python",
   "name": "python3"
  },
  "language_info": {
   "codemirror_mode": {
    "name": "ipython",
    "version": 3
   },
   "file_extension": ".py",
   "mimetype": "text/x-python",
   "name": "python",
   "nbconvert_exporter": "python",
   "pygments_lexer": "ipython3",
   "version": "3.11.2"
  },
  "orig_nbformat": 4
 },
 "nbformat": 4,
 "nbformat_minor": 2
}
