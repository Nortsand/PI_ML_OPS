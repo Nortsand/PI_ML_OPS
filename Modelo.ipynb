{
 "cells": [
  {
   "cell_type": "code",
   "execution_count": 6,
   "metadata": {},
   "outputs": [],
   "source": [
    "import pandas as pd\n",
    "from sklearn.metrics.pairwise import cosine_similarity"
   ]
  },
  {
   "cell_type": "code",
   "execution_count": 2,
   "metadata": {},
   "outputs": [],
   "source": [
    "movies = pd.read_csv(\"data/movies_modelo.csv\", index_col='id')"
   ]
  },
  {
   "cell_type": "code",
   "execution_count": 4,
   "metadata": {},
   "outputs": [
    {
     "name": "stdout",
     "output_type": "stream",
     "text": [
      "Index(['title', 'vote_average', 'vote_count', 'animation', 'comedy', 'family',\n",
      "       'adventure', 'fantasy', 'romance', 'drama', 'action', 'crime',\n",
      "       'thriller', 'horror', 'history', 'science fiction', 'mystery', 'war',\n",
      "       'foreign', 'music', 'documentary', 'western', 'tv movie'],\n",
      "      dtype='object')\n"
     ]
    }
   ],
   "source": [
    "columnas = movies.columns\n",
    "print(columnas)"
   ]
  },
  {
   "cell_type": "code",
   "execution_count": 7,
   "metadata": {},
   "outputs": [],
   "source": [
    "import numpy as np\n",
    "from sklearn.metrics.pairwise import cosine_similarity"
   ]
  },
  {
   "attachments": {},
   "cell_type": "markdown",
   "metadata": {},
   "source": [
    "#No pude terminar el modelo. Me quedé sin tiempo. "
   ]
  },
  {
   "cell_type": "code",
   "execution_count": 30,
   "metadata": {},
   "outputs": [],
   "source": [
    "def recomendacion(titulo):\n",
    "    # Verificar si el título de la película está en el conjunto de datos\n",
    "    if titulo in movies['title'].values:\n",
    "        # Obtener el índice de la película\n",
    "        index_pelicula = movies[movies['title'] == titulo].index\n",
    "        if len(index_pelicula) > 0:\n",
    "            index_pelicula = index_pelicula[0]\n",
    "        else:\n",
    "            print(f\"No se encontró la película {titulo} en el conjunto de datos.\")\n",
    "            return None\n",
    "        \n",
    "        # Multiplicar las columnas one-hot por la columna 'vote_average'\n",
    "        generos_pelicula = movies.loc[index_pelicula, 'animation':].multiply(movies.loc[index_pelicula, 'vote_average'])\n",
    "        \n",
    "        # Calcular la similitud de coseno entre la película ingresada y el resto de películas\n",
    "        similitud = cosine_similarity([generos_pelicula], movies.loc[:, 'animation':])\n",
    "        \n",
    "        # Obtener los índices de las películas más similares (excluyendo la película ingresada)\n",
    "        indices_similares = similitud.argsort()[0][-5:][::-1]\n",
    "        \n",
    "        # Verificar si los índices encontrados están presentes en el DataFrame\n",
    "        indices_validos = [indice for indice in indices_similares if indice in movies.index]\n",
    "        \n",
    "        # Obtener los títulos de las películas más similares\n",
    "        recomendaciones = movies.loc[indices_validos, 'title'].tolist()\n",
    "        \n",
    "        return recomendaciones\n",
    "    \n",
    "    else:\n",
    "        print(f\"No se encontró la película {titulo} en el conjunto de datos.\")"
   ]
  },
  {
   "cell_type": "code",
   "execution_count": 31,
   "metadata": {},
   "outputs": [
    {
     "data": {
      "text/plain": [
       "['Intimate Strangers',\n",
       " 'Investigation of a Citizen Above Suspicion',\n",
       " 'Nicholas Nickleby',\n",
       " 'No One Heard the Scream']"
      ]
     },
     "execution_count": 31,
     "metadata": {},
     "output_type": "execute_result"
    }
   ],
   "source": [
    "recomendacion(\"Toy Story\")"
   ]
  }
 ],
 "metadata": {
  "kernelspec": {
   "display_name": "Python 3",
   "language": "python",
   "name": "python3"
  },
  "language_info": {
   "codemirror_mode": {
    "name": "ipython",
    "version": 3
   },
   "file_extension": ".py",
   "mimetype": "text/x-python",
   "name": "python",
   "nbconvert_exporter": "python",
   "pygments_lexer": "ipython3",
   "version": "3.11.2"
  },
  "orig_nbformat": 4
 },
 "nbformat": 4,
 "nbformat_minor": 2
}
